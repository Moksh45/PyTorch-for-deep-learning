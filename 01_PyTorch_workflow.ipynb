{
  "cells": [
    {
      "cell_type": "markdown",
      "metadata": {
        "id": "view-in-github",
        "colab_type": "text"
      },
      "source": [
        "<a href=\"https://colab.research.google.com/github/Moksh45/PyTorch-for-deep-learning/blob/main/01_PyTorch_workflow.ipynb\" target=\"_parent\"><img src=\"https://colab.research.google.com/assets/colab-badge.svg\" alt=\"Open In Colab\"/></a>"
      ]
    },
    {
      "cell_type": "code",
      "execution_count": 1,
      "metadata": {
        "id": "YVUN-VmBvBNl"
      },
      "outputs": [],
      "source": [
        "import torch\n",
        "from torch import nn #nn contains all of Pytorch's building block for neural network\n",
        "import matplotlib.pyplot as plt"
      ]
    },
    {
      "cell_type": "markdown",
      "metadata": {
        "id": "68nE0qrjdNix"
      },
      "source": [
        "## Data (Preparing and loading)\n",
        "\n",
        "Data can be almost anything... in machine learning\n",
        "* Excel speadsheet\n",
        "* image of any kind\n",
        "* Video (YouTube has lot of Data)\n",
        "* Audio like songs or podcast\n",
        "* DNA\n",
        "* Text\n",
        "\n",
        "\n",
        "Machine learning is a game of two parts:\n",
        "\n",
        "\n",
        "\n",
        "1.   Get data into a numerical represntation\n",
        "2.   Bulid a model to learn patterns in that numerical representation\n",
        "\n",
        "To showcase this let's create some know data using the linear regression formula."
      ]
    },
    {
      "cell_type": "markdown",
      "metadata": {
        "id": "psSyWWbbeY8p"
      },
      "source": [
        "We'll usea linear regression formula to make a straight line with *Know* **Parameters**."
      ]
    },
    {
      "cell_type": "code",
      "execution_count": 2,
      "metadata": {
        "colab": {
          "base_uri": "https://localhost:8080/"
        },
        "id": "2wxvstSzdHnJ",
        "outputId": "d47f22c2-3cd8-4ab9-a30d-89102147d976"
      },
      "outputs": [
        {
          "output_type": "execute_result",
          "data": {
            "text/plain": [
              "(tensor([[0.0000],\n",
              "         [0.0200],\n",
              "         [0.0400],\n",
              "         [0.0600],\n",
              "         [0.0800],\n",
              "         [0.1000],\n",
              "         [0.1200],\n",
              "         [0.1400],\n",
              "         [0.1600],\n",
              "         [0.1800]]), tensor([[0.3000],\n",
              "         [0.3140],\n",
              "         [0.3280],\n",
              "         [0.3420],\n",
              "         [0.3560],\n",
              "         [0.3700],\n",
              "         [0.3840],\n",
              "         [0.3980],\n",
              "         [0.4120],\n",
              "         [0.4260]]))"
            ]
          },
          "metadata": {},
          "execution_count": 2
        }
      ],
      "source": [
        "weight = 0.7\n",
        "bias = 0.3\n",
        "\n",
        "#create \n",
        "start = 0\n",
        "end = 1\n",
        "step = 0.02\n",
        "x = torch.arange(start,end,step).unsqueeze(dim=1)\n",
        "#y = mx + B\n",
        "y = weight*x + bias\n",
        "\n",
        "x[:10],y[:10] "
      ]
    },
    {
      "cell_type": "code",
      "execution_count": 3,
      "metadata": {
        "colab": {
          "base_uri": "https://localhost:8080/"
        },
        "id": "GoqC0FuKhbdR",
        "outputId": "060e8bed-ead0-4c79-e780-d9b5de74d225"
      },
      "outputs": [
        {
          "output_type": "execute_result",
          "data": {
            "text/plain": [
              "(50, 50)"
            ]
          },
          "metadata": {},
          "execution_count": 3
        }
      ],
      "source": [
        "len(x),len(y)"
      ]
    },
    {
      "cell_type": "markdown",
      "metadata": {
        "id": "PKl9BY_GiuCZ"
      },
      "source": [
        "### Splitting data into training and test sets (one of the most important concept in machine learning in general)"
      ]
    },
    {
      "cell_type": "code",
      "execution_count": 4,
      "metadata": {
        "colab": {
          "base_uri": "https://localhost:8080/"
        },
        "id": "VIbUcEAxjFZ-",
        "outputId": "b90430d5-2fdd-4d31-95e6-0b9db4237bbe"
      },
      "outputs": [
        {
          "output_type": "execute_result",
          "data": {
            "text/plain": [
              "(40, 40, 10, 10)"
            ]
          },
          "metadata": {},
          "execution_count": 4
        }
      ],
      "source": [
        "# create a train/test split \n",
        "train_split = int(0.8 * len(x))\n",
        "x_train, y_train = x[:train_split], y[:train_split]\n",
        "x_test, y_test = x[train_split:], y[train_split:]\n",
        "\n",
        "len(x_train), len(y_train), len(x_test), len(y_test)"
      ]
    },
    {
      "cell_type": "markdown",
      "metadata": {
        "id": "0ZRPjdtulwqM"
      },
      "source": [
        "How might we better visualize our data?\n",
        "\n",
        "This is Where the data explorer's motto comes in!\n",
        "\n",
        "\"Visualize Visualize Visualize!\""
      ]
    },
    {
      "cell_type": "code",
      "execution_count": 5,
      "metadata": {
        "id": "wltWz_ewmOFx"
      },
      "outputs": [],
      "source": [
        "def plot_predictions(train_data=x_train, \n",
        "                     train_labels=y_train, \n",
        "                     test_data=x_test, \n",
        "                     test_labels=y_test, \n",
        "                     predictions=None):\n",
        "  \"\"\"\n",
        "  Plots training data, test data and compares predictions.\n",
        "  \"\"\"\n",
        "  plt.figure(figsize=(10, 7))\n",
        "\n",
        "  # Plot training data in blue\n",
        "  plt.scatter(train_data, train_labels, c=\"b\", s=4, label=\"Training data\")\n",
        "  \n",
        "  # Plot test data in green\n",
        "  plt.scatter(test_data, test_labels, c=\"g\", s=4, label=\"Testing data\")\n",
        "\n",
        "  if predictions is not None:\n",
        "    # Plot the predictions in red (predictions were made on the test data)\n",
        "    plt.scatter(test_data, predictions, c=\"r\", s=4, label=\"Predictions\")\n",
        "\n",
        "  # Show the legend\n",
        "  plt.legend(prop={\"size\": 14});"
      ]
    },
    {
      "cell_type": "code",
      "execution_count": 6,
      "metadata": {
        "colab": {
          "base_uri": "https://localhost:8080/",
          "height": 428
        },
        "id": "1Twe6KSpn7Dd",
        "outputId": "dff91182-a984-4dda-831c-32c363322949"
      },
      "outputs": [
        {
          "output_type": "display_data",
          "data": {
            "text/plain": [
              "<Figure size 720x504 with 1 Axes>"
            ],
            "image/png": "[encoded data removed]"
          },
          "metadata": {
            "needs_background": "light"
          }
        }
      ],
      "source": [
        "plot_predictions();"
      ]
    },
    {
      "cell_type": "markdown",
      "metadata": {
        "id": "udWIFnCBrTIw"
      },
      "source": [
        "2 Build Model\n",
        "\n",
        "our first PyTorch model!\n",
        "\n",
        "This is very exciting ...let's do it!\n",
        "\n",
        "\n",
        "What our Model does:\n",
        "\n",
        "\n",
        "*   Start with random values (Weight & bias)\n",
        "*   Look at training data and adjust the random values to better represent (or get closer to) the ideal values (the weight & bias values we used to create the data) \n",
        "\n",
        "How does it do so?\n",
        "\n",
        "Through two main algorithms:\n",
        "\n",
        "\n",
        "1.   Gradient desent\n",
        "2.   Backpropagation\n",
        "\n",
        "\n",
        "\n",
        "\n",
        "\n"
      ]
    },
    {
      "cell_type": "code",
      "execution_count": 7,
      "metadata": {
        "id": "zM7rgV0qqi4_"
      },
      "outputs": [],
      "source": [
        "from torch import nn\n",
        "\n",
        "class LinearRegressionMobel(nn.Module):   #<- almost everything in Pytorch inherhits from nn.Module\n",
        "  def __init__(self):    #constructor\n",
        "    super().__init__()\n",
        "    self.weights = nn.Parameter(torch.randn(1,\n",
        "                                           requires_grad=True,\n",
        "                                           dtype=torch.float))\n",
        "    self.bias = nn.Parameter(torch.randn(1,\n",
        "                                           requires_grad=True,\n",
        "                                           dtype=torch.float))\n",
        "                                           \n",
        "  #forward method to define the computition in the model\n",
        "  def forward (self, x: torch.Tensor) -> torch.Tensor:\n",
        "    return self.weights * x + self.bias \n",
        "    "
      ]
    },
    {
      "cell_type": "code",
      "execution_count": 8,
      "metadata": {
        "colab": {
          "base_uri": "https://localhost:8080/"
        },
        "id": "tpq5Q0rl2lu7",
        "outputId": "0ce99beb-9470-481e-a4d0-dd124e187cdd"
      },
      "outputs": [
        {
          "output_type": "execute_result",
          "data": {
            "text/plain": [
              "tensor([0.3367])"
            ]
          },
          "metadata": {},
          "execution_count": 8
        }
      ],
      "source": [
        "torch.manual_seed(42)\n",
        "torch.randn(1)"
      ]
    },
    {
      "cell_type": "markdown",
      "metadata": {
        "id": "5ZVw0XUn0ikI"
      },
      "source": [
        "### Checking the contents of our PyTorch model\n",
        "\n",
        "Now we've created a model, let's see what's inside.\n",
        "\n",
        "So we can chek out model parameters or what's inside our model using .`Parameters().`"
      ]
    },
    {
      "cell_type": "code",
      "execution_count": 9,
      "metadata": {
        "colab": {
          "base_uri": "https://localhost:8080/"
        },
        "id": "eaegdbyf8yj6",
        "outputId": "fc9b7137-6676-490d-a157-c25715043338"
      },
      "outputs": [
        {
          "output_type": "execute_result",
          "data": {
            "text/plain": [
              "[Parameter containing:\n",
              " tensor([0.3367], requires_grad=True), Parameter containing:\n",
              " tensor([0.1288], requires_grad=True)]"
            ]
          },
          "metadata": {},
          "execution_count": 9
        }
      ],
      "source": [
        "# Create a random seed\n",
        "torch.manual_seed(42)\n",
        "\n",
        "# Create an instance of the model (this is a subclass of nn.Module)\n",
        "model_0 = LinearRegressionMobel()\n",
        "\n",
        "# Check out the parameters\n",
        "list(model_0.parameters())\n"
      ]
    },
    {
      "cell_type": "code",
      "execution_count": 10,
      "metadata": {
        "colab": {
          "base_uri": "https://localhost:8080/"
        },
        "id": "yy94ekXw3bqw",
        "outputId": "672fb03c-2d78-4689-cd9b-f35d1f7a1b11"
      },
      "outputs": [
        {
          "output_type": "execute_result",
          "data": {
            "text/plain": [
              "OrderedDict([('weights', tensor([0.3367])), ('bias', tensor([0.1288]))])"
            ]
          },
          "metadata": {},
          "execution_count": 10
        }
      ],
      "source": [
        "# List named parameter\n",
        "model_0.state_dict()\n"
      ]
    },
    {
      "cell_type": "markdown",
      "metadata": {
        "id": "kBCLBsex42EK"
      },
      "source": [
        "### Making prediction using `torch.inference_mode()`\n",
        "\n",
        "To check our model's predictive power, let's see how well it predicts `y_test` based on `X_test`.\n",
        "\n",
        "When we pass data through our model, it's going to run it through the forward() method."
      ]
    },
    {
      "cell_type": "code",
      "execution_count": 11,
      "metadata": {
        "colab": {
          "base_uri": "https://localhost:8080/"
        },
        "id": "v9fE1Bmm4khB",
        "outputId": "e8319cf7-0ddd-405d-feb3-62192d407497"
      },
      "outputs": [
        {
          "output_type": "execute_result",
          "data": {
            "text/plain": [
              "tensor([[0.3982],\n",
              "        [0.4049],\n",
              "        [0.4116],\n",
              "        [0.4184],\n",
              "        [0.4251],\n",
              "        [0.4318],\n",
              "        [0.4386],\n",
              "        [0.4453],\n",
              "        [0.4520],\n",
              "        [0.4588]])"
            ]
          },
          "metadata": {},
          "execution_count": 11
        }
      ],
      "source": [
        "# Make predictions with model\n",
        "\n",
        "# y_preds = model_0(x_test)  # You can use this direct also\n",
        "\n",
        "with torch.inference_mode():\n",
        "  y_preds = model_0(x_test)\n",
        "\n",
        "# You can also do something similar with torch.no_grad(), however, inference_mode() is preferred\n",
        "\n",
        "# with torch.no_grad():\n",
        "#   y_preds = model_0(x_test)\n",
        "y_preds"
      ]
    },
    {
      "cell_type": "code",
      "execution_count": 12,
      "metadata": {
        "colab": {
          "base_uri": "https://localhost:8080/",
          "height": 428
        },
        "id": "IeglY8kQ_dFQ",
        "outputId": "23703be0-d626-43d7-b3c4-27e77b0ab20b"
      },
      "outputs": [
        {
          "output_type": "display_data",
          "data": {
            "text/plain": [
              "<Figure size 720x504 with 1 Axes>"
            ],
            "image/png": "[encoded data removed]"
          },
          "metadata": {
            "needs_background": "light"
          }
        }
      ],
      "source": [
        "plot_predictions(predictions=y_preds)"
      ]
    },
    {
      "cell_type": "markdown",
      "metadata": {
        "id": "N7xtbrCGCU9e"
      },
      "source": [
        "## 3 . Train model\n",
        "\n",
        "The whole idea of training is for a model to move from some unknown parameters (these may be random) to some *known* parameters.\n",
        "\n",
        "Or in other words from a poor representation the data to a better representation of the data\n",
        "\n",
        "one way to measure how poor or how wronge your models presictions are is to use a loss function.\n",
        "\n",
        "* Note: Loss function may also be called cost function or criterion in different areas. For our case, we're going to refer to it as a loss function.\n",
        "\n",
        "* **Loss function:** A function to measure how wrong your model's predictions are to the ideal outputs, lower is better\n",
        "\n",
        "* **Optimizer:** Takes into account the loss of a model and adjust the model's parameters (e.g. weight & bias in our case) to improve the loss function.\n",
        "\n",
        " * Inside the optimizer you'll often habe to set two parameters:\n",
        "\n",
        "   * `params` - the model parameter you'd like to optimize, for example params=model_O.parameters()\n",
        "\n",
        "    * `lr (Learning rate)` - the learning rate is a hyperparamter theat defines how big/samll the optimizer changes the parameters eith each step (a small `lr` results in small changes, a large `lr` results in large changes)\n",
        "\n",
        "\n",
        "\n",
        "\n",
        "And specifically for PyTorch, we need:\n",
        "\n",
        "* A training loop\n",
        "* a testing loop\n",
        "\n"
      ]
    },
    {
      "cell_type": "code",
      "source": [
        "list(model_0.parameters())"
      ],
      "metadata": {
        "colab": {
          "base_uri": "https://localhost:8080/"
        },
        "id": "o9Xc-55SQOXu",
        "outputId": "f6bc33a6-78f3-411c-fb7a-61858b29b858"
      },
      "execution_count": 13,
      "outputs": [
        {
          "output_type": "execute_result",
          "data": {
            "text/plain": [
              "[Parameter containing:\n",
              " tensor([0.3367], requires_grad=True), Parameter containing:\n",
              " tensor([0.1288], requires_grad=True)]"
            ]
          },
          "metadata": {},
          "execution_count": 13
        }
      ]
    },
    {
      "cell_type": "code",
      "source": [
        "# Check out our model's parameters (a parameter is a value that the model sets itself)\n",
        "model_0.state_dict()"
      ],
      "metadata": {
        "colab": {
          "base_uri": "https://localhost:8080/"
        },
        "id": "eJIXfKoASoRO",
        "outputId": "57287fbd-ebf8-42a2-a0df-bfb11c97c6b6"
      },
      "execution_count": 14,
      "outputs": [
        {
          "output_type": "execute_result",
          "data": {
            "text/plain": [
              "OrderedDict([('weights', tensor([0.3367])), ('bias', tensor([0.1288]))])"
            ]
          },
          "metadata": {},
          "execution_count": 14
        }
      ]
    },
    {
      "cell_type": "code",
      "source": [
        "# Setup a loss function\n",
        "loss_fn = nn.L1Loss()  # MAE (Mean Absolute Error)\n",
        "\n",
        "# Setup an optimizer (Stochastic gradient descent)\n",
        "optimizer = torch.optim.SGD(params = model_0.parameters(),\n",
        "                            lr=0.01) #lr = learning rate = possibly the most important hyperparameter you can set"
      ],
      "metadata": {
        "id": "5tbpKJRlTSWK"
      },
      "execution_count": 15,
      "outputs": []
    },
    {
      "cell_type": "markdown",
      "source": [
        "**Q:** Which loss function and optimizer should i use?\n",
        "\n",
        "**A:** This will be problem specific . But with experience, you'll get an idea of what works and what doesn't with your particular problem set.\n",
        "\n",
        "for example, for a regression problem (like ours), a loss function of `nn.L1Loss()` and an optimizer like `torch.optim.SGD()` will suffice \n",
        "\n",
        "But for a classification problem like classifying whether a photo is of a dog or a cat, you'll likely want to use a loss function of `nn.BCELoss()` (Binary cross entropy loss)"
      ],
      "metadata": {
        "id": "1mqZUGeDazH8"
      }
    },
    {
      "cell_type": "markdown",
      "source": [
        "### Building a training loop (and a testing loop) in Pytorch\n",
        "\n",
        "A couple of things we need in a training loop:\n",
        "\n",
        "0: Loop through the data\n",
        "\n",
        "1: Forward pass(this involves data moving through our model's `forward()` function) to make predictions on data - also called forward propagation \n",
        "\n",
        "2: Calculatethe loss (compare forward pass predictions to ground truth labels)\n",
        "\n",
        "3: Optimizer zero grad\n",
        "\n",
        "4: Loss backward - move backward through the networking to calculate the gradients of each of the parameters of our model with respect to the loss (**backpropagation**)\n",
        "\n",
        "5: Optimizer step - use the optimizer to adjust our model's parameters to try and improve the loss (**gradient descent**)"
      ],
      "metadata": {
        "id": "BMxArJyOKOc3"
      }
    },
    {
      "cell_type": "code",
      "source": [
        "torch.manual_seed(42)\n",
        "\n",
        "# An epoch is one loop through the data... (this is a hyperparameter because we've set it ourselves)\n",
        "epochs = 200  # already run this 200 plus time\n",
        "\n",
        "# Track different values\n",
        "epoch_count = []\n",
        "loss_values = []\n",
        "test_loss_values = []\n",
        "\n",
        "# 0. Loop through the data\n",
        "for epoch in range(epochs):\n",
        "  #set the model to training mode\n",
        "  model_0.train() # train mode in Pytorch sets all parameters that require gradients to require gradients\n",
        "\n",
        "  # 1. forward pass\n",
        "  y_pred = model_0(x_train)\n",
        "\n",
        "  # 2. Calculate the loss\n",
        "  loss = loss_fn(y_pred, y_train)    # using for calculate Mean absolute error (MAE) \n",
        "  #print(f\"Loss : {loss}\")\n",
        "\n",
        "  # 3. Optimizer zero grad\n",
        "  optimizer.zero_grad()\n",
        "\n",
        "  # 4. Perform backpropagation on the loss with respect to the parameters of the mobel\n",
        "  loss.backward()\n",
        "\n",
        "  # 5. step the optimizer (perform gradient descent)\n",
        "  optimizer.step() #by default how to optimizer changes will acculumate through the loop so... We have to zero them above in step 3 for the next iteration of the loop\n",
        "\n",
        "  ### Testing \n",
        "  model_0.eval() #turns off different setting in the model not needed for evaluation/Testing (dropout/batch norm layers)\n",
        "\n",
        "  with torch.inference_mode():   #turn off gradient tracking & a couple more thing behind the scenes\n",
        "  # with torch.no_grad(): # you may also see torch.no_grad() in older PyTorch code\n",
        "\n",
        "    # 1. Do the forward pass\n",
        "    test_pred = model_0(x_test)\n",
        "\n",
        "    # 2. Calculate the loss\n",
        "    test_loss = loss_fn(test_pred, y_test)\n",
        "\n",
        "  # Print out what's happenin\n",
        "  if epoch % 10 == 0:\n",
        "    epoch_count.append(epoch)\n",
        "    loss_values.append(loss)\n",
        "    test_loss_values.append(test_loss)\n",
        "    print(f\"Epoch : {epoch } | Test : {loss} | Test loss : {test_loss}\")\n",
        "    # Print out model state_dict()\n",
        "    print(model_0.state_dict())"
      ],
      "metadata": {
        "id": "zDVvHPmMa3id",
        "colab": {
          "base_uri": "https://localhost:8080/"
        },
        "outputId": "32650c70-0055-43ee-bffb-c9414741333f"
      },
      "execution_count": 16,
      "outputs": [
        {
          "output_type": "stream",
          "name": "stdout",
          "text": [
            "Epoch : 0 | Test : 0.31288138031959534 | Test loss : 0.48106518387794495\n",
            "OrderedDict([('weights', tensor([0.3406])), ('bias', tensor([0.1388]))])\n",
            "Epoch : 10 | Test : 0.1976713240146637 | Test loss : 0.3463551998138428\n",
            "OrderedDict([('weights', tensor([0.3796])), ('bias', tensor([0.2388]))])\n",
            "Epoch : 20 | Test : 0.08908725529909134 | Test loss : 0.21729660034179688\n",
            "OrderedDict([('weights', tensor([0.4184])), ('bias', tensor([0.3333]))])\n",
            "Epoch : 30 | Test : 0.053148526698350906 | Test loss : 0.14464017748832703\n",
            "OrderedDict([('weights', tensor([0.4512])), ('bias', tensor([0.3768]))])\n",
            "Epoch : 40 | Test : 0.04543796554207802 | Test loss : 0.11360953003168106\n",
            "OrderedDict([('weights', tensor([0.4748])), ('bias', tensor([0.3868]))])\n",
            "Epoch : 50 | Test : 0.04167863354086876 | Test loss : 0.09919948130846024\n",
            "OrderedDict([('weights', tensor([0.4938])), ('bias', tensor([0.3843]))])\n",
            "Epoch : 60 | Test : 0.03818932920694351 | Test loss : 0.08886633068323135\n",
            "OrderedDict([('weights', tensor([0.5116])), ('bias', tensor([0.3788]))])\n",
            "Epoch : 70 | Test : 0.03476089984178543 | Test loss : 0.0805937647819519\n",
            "OrderedDict([('weights', tensor([0.5288])), ('bias', tensor([0.3718]))])\n",
            "Epoch : 80 | Test : 0.03132382780313492 | Test loss : 0.07232122868299484\n",
            "OrderedDict([('weights', tensor([0.5459])), ('bias', tensor([0.3648]))])\n",
            "Epoch : 90 | Test : 0.02788739837706089 | Test loss : 0.06473556160926819\n",
            "OrderedDict([('weights', tensor([0.5629])), ('bias', tensor([0.3573]))])\n",
            "Epoch : 100 | Test : 0.024458957836031914 | Test loss : 0.05646304413676262\n",
            "OrderedDict([('weights', tensor([0.5800])), ('bias', tensor([0.3503]))])\n",
            "Epoch : 110 | Test : 0.021020207554101944 | Test loss : 0.04819049686193466\n",
            "OrderedDict([('weights', tensor([0.5972])), ('bias', tensor([0.3433]))])\n",
            "Epoch : 120 | Test : 0.01758546568453312 | Test loss : 0.04060482233762741\n",
            "OrderedDict([('weights', tensor([0.6141])), ('bias', tensor([0.3358]))])\n",
            "Epoch : 130 | Test : 0.014155393466353416 | Test loss : 0.03233227878808975\n",
            "OrderedDict([('weights', tensor([0.6313])), ('bias', tensor([0.3288]))])\n",
            "Epoch : 140 | Test : 0.010716589167714119 | Test loss : 0.024059748277068138\n",
            "OrderedDict([('weights', tensor([0.6485])), ('bias', tensor([0.3218]))])\n",
            "Epoch : 150 | Test : 0.0072835334576666355 | Test loss : 0.016474086791276932\n",
            "OrderedDict([('weights', tensor([0.6654])), ('bias', tensor([0.3143]))])\n",
            "Epoch : 160 | Test : 0.0038517764769494534 | Test loss : 0.008201557211577892\n",
            "OrderedDict([('weights', tensor([0.6826])), ('bias', tensor([0.3073]))])\n",
            "Epoch : 170 | Test : 0.008932482451200485 | Test loss : 0.005023092031478882\n",
            "OrderedDict([('weights', tensor([0.6951])), ('bias', tensor([0.2993]))])\n",
            "Epoch : 180 | Test : 0.008932482451200485 | Test loss : 0.005023092031478882\n",
            "OrderedDict([('weights', tensor([0.6951])), ('bias', tensor([0.2993]))])\n",
            "Epoch : 190 | Test : 0.008932482451200485 | Test loss : 0.005023092031478882\n",
            "OrderedDict([('weights', tensor([0.6951])), ('bias', tensor([0.2993]))])\n"
          ]
        }
      ]
    },
    {
      "cell_type": "code",
      "source": [
        "# Plot the loss curves\n",
        "import numpy as np\n",
        "plt.plot(epoch_count, np.array(torch.tensor(loss_values).numpy()), label=\"Train loss\")\n",
        "plt.plot(epoch_count, test_loss_values, label=\"Test loss\")\n",
        "plt.title(\"Training and test loss curves\")\n",
        "plt.ylabel(\"loss\")\n",
        "plt.xlabel(\"Epochs\")\n",
        "plt.legend();"
      ],
      "metadata": {
        "colab": {
          "base_uri": "https://localhost:8080/",
          "height": 295
        },
        "id": "YNJ_rMjXiYVo",
        "outputId": "cd7547fe-abce-47b6-e496-238d4fc6b90c"
      },
      "execution_count": 17,
      "outputs": [
        {
          "output_type": "display_data",
          "data": {
            "text/plain": [
              "<Figure size 432x288 with 1 Axes>"
            ],
            "image/png": "[encoded data removed]"
          },
          "metadata": {
            "needs_background": "light"
          }
        }
      ]
    },
    {
      "cell_type": "code",
      "source": [
        "weight,bias"
      ],
      "metadata": {
        "colab": {
          "base_uri": "https://localhost:8080/"
        },
        "id": "Yb1iLuK14SWg",
        "outputId": "022de665-293d-4185-d1b7-185537ac780a"
      },
      "execution_count": 18,
      "outputs": [
        {
          "output_type": "execute_result",
          "data": {
            "text/plain": [
              "(0.7, 0.3)"
            ]
          },
          "metadata": {},
          "execution_count": 18
        }
      ]
    },
    {
      "cell_type": "code",
      "source": [
        "with torch.inference_mode():\n",
        "  y_preds_new = model_0(x_test)"
      ],
      "metadata": {
        "id": "e3tqfBC_8B-y"
      },
      "execution_count": 19,
      "outputs": []
    },
    {
      "cell_type": "code",
      "source": [
        "plot_predictions(predictions=y_preds)"
      ],
      "metadata": {
        "colab": {
          "base_uri": "https://localhost:8080/",
          "height": 428
        },
        "id": "6xskP2Af8PHx",
        "outputId": "49ef7227-20fa-4852-8c5e-e5ba3102dc7f"
      },
      "execution_count": 20,
      "outputs": [
        {
          "output_type": "display_data",
          "data": {
            "text/plain": [
              "<Figure size 720x504 with 1 Axes>"
            ],
            "image/png": "[encoded data removed]"
          },
          "metadata": {
            "needs_background": "light"
          }
        }
      ]
    },
    {
      "cell_type": "code",
      "source": [
        "plot_predictions(predictions=y_preds_new)"
      ],
      "metadata": {
        "colab": {
          "base_uri": "https://localhost:8080/",
          "height": 428
        },
        "id": "2tZ2QqjB8uDW",
        "outputId": "e88aa673-887b-412c-9614-e9d8f7906861"
      },
      "execution_count": 21,
      "outputs": [
        {
          "output_type": "display_data",
          "data": {
            "text/plain": [
              "<Figure size 720x504 with 1 Axes>"
            ],
            "image/png": "[encoded data removed]"
          },
          "metadata": {
            "needs_background": "light"
          }
        }
      ]
    },
    {
      "cell_type": "markdown",
      "source": [
        "## Saving a model in Pytorch\n",
        "\n",
        "There are three main method you should and loading models in Pytorch.\n",
        "\n",
        "1. `torch.save() ` - allows you save a Pytorch object in Python's pickle\n",
        "\n",
        "2. `torch.load()` - allows you load a saved PyTorch object\n",
        "\n",
        "3. `torch.nn.Module.load_state_dict()` - this allows to load a model's saved state dictionary"
      ],
      "metadata": {
        "id": "9tQnoNqTnQlj"
      }
    },
    {
      "cell_type": "code",
      "source": [
        "# Saving our PyTorch model\n",
        "from pathlib import Path\n",
        "\n",
        "# 1. Create models directory\n",
        "MODEL_PATH = Path(\"models\")\n",
        "MODEL_PATH.mkdir(parents=True, exist_ok = True)\n",
        "\n",
        "# 2. Create model save path\n",
        "MODEL_NAME= \"01_pytorch_workflow_model_0.pth\"\n",
        "MODEL_SAVE_PATH = MODEL_PATH / MODEL_NAME\n",
        "\n",
        "# 3. Save the model state dict\n",
        "print(f\"Saving model to: {MODEL_SAVE_PATH}\")\n",
        "torch.save(obj=model_0.state_dict(),\n",
        "           f=MODEL_SAVE_PATH)"
      ],
      "metadata": {
        "colab": {
          "base_uri": "https://localhost:8080/"
        },
        "id": "4YzWLGKInU50",
        "outputId": "4265f4c1-8237-456e-dacd-f0ab7366fbf0"
      },
      "execution_count": 22,
      "outputs": [
        {
          "output_type": "stream",
          "name": "stdout",
          "text": [
            "Saving model to: models/01_pytorch_workflow_model_0.pth\n"
          ]
        }
      ]
    },
    {
      "cell_type": "markdown",
      "source": [
        "## Loading a PyTorch Model\n",
        "\n",
        "since we saved our model's `state_dict()` rather the entire model.we'll create a new instance of our model class and load the saved `state_dict()` into that."
      ],
      "metadata": {
        "id": "s15Y7JNfx3HX"
      }
    },
    {
      "cell_type": "code",
      "source": [
        "# To load in a saved state_dict we have to instantiate a new instance of our model class \n",
        "loaded_model_0 = "
      ],
      "metadata": {
        "id": "qGIQ06tuyQaB"
      },
      "execution_count": null,
      "outputs": []
    }
  ],
  "metadata": {
    "colab": {
      "provenance": [],
      "authorship_tag": "ABX9TyPWr2nZh/bjUDHJtntd/wnG",
      "include_colab_link": true
    },
    "gpuClass": "standard",
    "kernelspec": {
      "display_name": "Python 3",
      "name": "python3"
    },
    "language_info": {
      "name": "python"
    }
  },
  "nbformat": 4,
  "nbformat_minor": 0
}