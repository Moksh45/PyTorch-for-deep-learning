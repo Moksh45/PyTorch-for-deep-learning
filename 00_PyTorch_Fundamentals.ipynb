{
  "nbformat": 4,
  "nbformat_minor": 0,
  "metadata": {
    "colab": {
      "provenance": [],
      "authorship_tag": "ABX9TyNXcGXEQljaiJ/WsQ5TCa3R",
      "include_colab_link": true
    },
    "kernelspec": {
      "name": "python3",
      "display_name": "Python 3"
    },
    "language_info": {
      "name": "python"
    },
    "gpuClass": "standard"
  },
  "cells": [
    {
      "cell_type": "markdown",
      "metadata": {
        "id": "view-in-github",
        "colab_type": "text"
      },
      "source": [
        "<a href=\"https://colab.research.google.com/github/Moksh45/PyTorch-for-deep-learning/blob/main/00_PyTorch_Fundamentals.ipynb\" target=\"_parent\"><img src=\"https://colab.research.google.com/assets/colab-badge.svg\" alt=\"Open In Colab\"/></a>"
      ]
    },
    {
      "cell_type": "code",
      "source": [
        "##PyTorch Fundamentals"
      ],
      "metadata": {
        "id": "ZXFXFXRhe0rn"
      },
      "execution_count": 1,
      "outputs": []
    },
    {
      "cell_type": "code",
      "source": [
        "!nvidia-smi"
      ],
      "metadata": {
        "colab": {
          "base_uri": "https://localhost:8080/"
        },
        "id": "8_M8SY4_ea5E",
        "outputId": "33f60154-caf9-42e2-c7f7-433c63723a83"
      },
      "execution_count": 2,
      "outputs": [
        {
          "output_type": "stream",
          "name": "stdout",
          "text": [
            "NVIDIA-SMI has failed because it couldn't communicate with the NVIDIA driver. Make sure that the latest NVIDIA driver is installed and running.\n",
            "\n"
          ]
        }
      ]
    },
    {
      "cell_type": "code",
      "source": [
        "import torch\n",
        "import pandas as pd\n",
        "import numpy as np\n",
        "import matplotlib.pyplot as plt\n",
        "print(torch.__version__)"
      ],
      "metadata": {
        "colab": {
          "base_uri": "https://localhost:8080/"
        },
        "id": "8yArK25denqQ",
        "outputId": "583df9ee-6aec-467e-bb49-4b4ddd583d5e"
      },
      "execution_count": 3,
      "outputs": [
        {
          "output_type": "stream",
          "name": "stdout",
          "text": [
            "1.13.0+cu116\n"
          ]
        }
      ]
    },
    {
      "cell_type": "markdown",
      "source": [
        "#Introduction To Tensors\n",
        "\n",
        "### Creating tensors\n"
      ],
      "metadata": {
        "id": "KRO-XsZCiI6x"
      }
    },
    {
      "cell_type": "code",
      "source": [
        "#scalar\n",
        "scalar = torch.tensor(7)\n",
        "scalar"
      ],
      "metadata": {
        "colab": {
          "base_uri": "https://localhost:8080/"
        },
        "id": "_Vs67_s6fkUS",
        "outputId": "50f5400f-a123-4e5c-a1da-035c7f0e95e8"
      },
      "execution_count": 4,
      "outputs": [
        {
          "output_type": "execute_result",
          "data": {
            "text/plain": [
              "tensor(7)"
            ]
          },
          "metadata": {},
          "execution_count": 4
        }
      ]
    },
    {
      "cell_type": "code",
      "source": [
        "scalar.ndim"
      ],
      "metadata": {
        "colab": {
          "base_uri": "https://localhost:8080/"
        },
        "id": "6X9WZdfJjFRh",
        "outputId": "53e1fb72-e590-4812-8210-3729c0e57e32"
      },
      "execution_count": 5,
      "outputs": [
        {
          "output_type": "execute_result",
          "data": {
            "text/plain": [
              "0"
            ]
          },
          "metadata": {},
          "execution_count": 5
        }
      ]
    },
    {
      "cell_type": "code",
      "source": [
        "# Get tensor back as python list\n",
        "scalar.item()"
      ],
      "metadata": {
        "colab": {
          "base_uri": "https://localhost:8080/"
        },
        "id": "kfpw6AHTlJGZ",
        "outputId": "13b2b87d-3c41-4002-c1f3-032012d45144"
      },
      "execution_count": 6,
      "outputs": [
        {
          "output_type": "execute_result",
          "data": {
            "text/plain": [
              "7"
            ]
          },
          "metadata": {},
          "execution_count": 6
        }
      ]
    },
    {
      "cell_type": "code",
      "source": [
        "#vector\n",
        "vector = torch.tensor([7,7])\n",
        "vector"
      ],
      "metadata": {
        "colab": {
          "base_uri": "https://localhost:8080/"
        },
        "id": "5gpus_j-lT4V",
        "outputId": "b2093e50-5752-4769-f433-6bf6e058489d"
      },
      "execution_count": 7,
      "outputs": [
        {
          "output_type": "execute_result",
          "data": {
            "text/plain": [
              "tensor([7, 7])"
            ]
          },
          "metadata": {},
          "execution_count": 7
        }
      ]
    },
    {
      "cell_type": "code",
      "source": [
        "vector.ndim"
      ],
      "metadata": {
        "colab": {
          "base_uri": "https://localhost:8080/"
        },
        "id": "YrJ-Bmt8mjXy",
        "outputId": "e0434767-a7d8-440b-fe60-d22cb390c4e8"
      },
      "execution_count": 8,
      "outputs": [
        {
          "output_type": "execute_result",
          "data": {
            "text/plain": [
              "1"
            ]
          },
          "metadata": {},
          "execution_count": 8
        }
      ]
    },
    {
      "cell_type": "code",
      "source": [
        "vector.shape"
      ],
      "metadata": {
        "colab": {
          "base_uri": "https://localhost:8080/"
        },
        "id": "JVJOjY1bniJc",
        "outputId": "a1d80295-77f2-469a-9160-ef128d635758"
      },
      "execution_count": 9,
      "outputs": [
        {
          "output_type": "execute_result",
          "data": {
            "text/plain": [
              "torch.Size([2])"
            ]
          },
          "metadata": {},
          "execution_count": 9
        }
      ]
    },
    {
      "cell_type": "code",
      "source": [
        "#matrix\n",
        "Matrix = torch.tensor([[7,7],[4,5]])\n",
        "Matrix"
      ],
      "metadata": {
        "colab": {
          "base_uri": "https://localhost:8080/"
        },
        "id": "sBqXaBrYm7j5",
        "outputId": "627bb0a8-15e8-4c09-a439-3cf56af71d72"
      },
      "execution_count": 10,
      "outputs": [
        {
          "output_type": "execute_result",
          "data": {
            "text/plain": [
              "tensor([[7, 7],\n",
              "        [4, 5]])"
            ]
          },
          "metadata": {},
          "execution_count": 10
        }
      ]
    },
    {
      "cell_type": "code",
      "source": [
        "Matrix.ndim"
      ],
      "metadata": {
        "colab": {
          "base_uri": "https://localhost:8080/"
        },
        "id": "3-toF6zdnEG5",
        "outputId": "870b242e-33d9-46f2-aaf6-4fc8783e9879"
      },
      "execution_count": 11,
      "outputs": [
        {
          "output_type": "execute_result",
          "data": {
            "text/plain": [
              "2"
            ]
          },
          "metadata": {},
          "execution_count": 11
        }
      ]
    },
    {
      "cell_type": "code",
      "source": [
        "Matrix[0][1]"
      ],
      "metadata": {
        "colab": {
          "base_uri": "https://localhost:8080/"
        },
        "id": "_ZIWVycvnO65",
        "outputId": "35e6ac5d-01a6-4e56-944c-df6d00877bb4"
      },
      "execution_count": 12,
      "outputs": [
        {
          "output_type": "execute_result",
          "data": {
            "text/plain": [
              "tensor(7)"
            ]
          },
          "metadata": {},
          "execution_count": 12
        }
      ]
    },
    {
      "cell_type": "code",
      "source": [
        "Matrix.shape"
      ],
      "metadata": {
        "colab": {
          "base_uri": "https://localhost:8080/"
        },
        "id": "mxrXzr86oIBp",
        "outputId": "f62488eb-d82d-435b-e4f0-1904709a32b1"
      },
      "execution_count": 13,
      "outputs": [
        {
          "output_type": "execute_result",
          "data": {
            "text/plain": [
              "torch.Size([2, 2])"
            ]
          },
          "metadata": {},
          "execution_count": 13
        }
      ]
    },
    {
      "cell_type": "code",
      "source": [
        "# Tensor \n",
        "Tensor = torch.tensor([[[1,2,3,],[4,5,6],[7,8,9]]])"
      ],
      "metadata": {
        "id": "pNgwyOtRoOGi"
      },
      "execution_count": 14,
      "outputs": []
    },
    {
      "cell_type": "code",
      "source": [
        "Tensor"
      ],
      "metadata": {
        "colab": {
          "base_uri": "https://localhost:8080/"
        },
        "id": "c8cR8xQ7om1w",
        "outputId": "7a82aa8c-67d4-49a0-f2f2-821770194290"
      },
      "execution_count": 15,
      "outputs": [
        {
          "output_type": "execute_result",
          "data": {
            "text/plain": [
              "tensor([[[1, 2, 3],\n",
              "         [4, 5, 6],\n",
              "         [7, 8, 9]]])"
            ]
          },
          "metadata": {},
          "execution_count": 15
        }
      ]
    },
    {
      "cell_type": "code",
      "source": [
        "Tensor.ndim"
      ],
      "metadata": {
        "colab": {
          "base_uri": "https://localhost:8080/"
        },
        "id": "cRv6QTFJoqKJ",
        "outputId": "ff546eee-8aa7-443e-8266-a8e47f4ac88b"
      },
      "execution_count": 16,
      "outputs": [
        {
          "output_type": "execute_result",
          "data": {
            "text/plain": [
              "3"
            ]
          },
          "metadata": {},
          "execution_count": 16
        }
      ]
    },
    {
      "cell_type": "code",
      "source": [
        "Tensor.shape"
      ],
      "metadata": {
        "colab": {
          "base_uri": "https://localhost:8080/"
        },
        "id": "zd7M-UK_ovIi",
        "outputId": "8749bf85-a7c9-466e-e738-dbce21053958"
      },
      "execution_count": 17,
      "outputs": [
        {
          "output_type": "execute_result",
          "data": {
            "text/plain": [
              "torch.Size([1, 3, 3])"
            ]
          },
          "metadata": {},
          "execution_count": 17
        }
      ]
    },
    {
      "cell_type": "markdown",
      "source": [
        "## Random Tensors\n",
        "\n",
        "##### Why Random Trnsors?\n",
        "Random tensors are important because the way many neural networks learn is that they start with tensor full of random number and adjust those random number to better represent the data.\n",
        "\n",
        "`Start with random number -> look at data -> update random number -> look at data -> update random number`"
      ],
      "metadata": {
        "id": "FdJCmxVww81t"
      }
    },
    {
      "cell_type": "code",
      "source": [
        "#create a random Tensor of sixe (3,4)\n",
        "random_tensor = torch.rand(1,3,10)\n",
        "random_tensor"
      ],
      "metadata": {
        "colab": {
          "base_uri": "https://localhost:8080/"
        },
        "id": "YqYQzuHnrFhV",
        "outputId": "2b8fcc89-e88f-4909-b3e6-6f82aa8a323a"
      },
      "execution_count": 18,
      "outputs": [
        {
          "output_type": "execute_result",
          "data": {
            "text/plain": [
              "tensor([[[0.2454, 0.7971, 0.4601, 0.5729, 0.1322, 0.6067, 0.7620, 0.4768,\n",
              "          0.1868, 0.3450],\n",
              "         [0.8270, 0.3403, 0.8759, 0.2920, 0.2759, 0.1065, 0.5848, 0.0599,\n",
              "          0.7383, 0.3703],\n",
              "         [0.0403, 0.6238, 0.3989, 0.0474, 0.7288, 0.6542, 0.4828, 0.0254,\n",
              "          0.2989, 0.4563]]])"
            ]
          },
          "metadata": {},
          "execution_count": 18
        }
      ]
    },
    {
      "cell_type": "code",
      "source": [
        "random_tensor.ndim"
      ],
      "metadata": {
        "colab": {
          "base_uri": "https://localhost:8080/"
        },
        "id": "YJWH3ZnXzQfi",
        "outputId": "df78f5f8-2ec0-4827-dce2-bf2c48cc1098"
      },
      "execution_count": 19,
      "outputs": [
        {
          "output_type": "execute_result",
          "data": {
            "text/plain": [
              "3"
            ]
          },
          "metadata": {},
          "execution_count": 19
        }
      ]
    },
    {
      "cell_type": "code",
      "source": [
        "#create a random tensor with similar shape to an image tensor\n",
        "random_image_size_tensor = torch.rand(size=(224,224,3))  # height, Width, colour channel\n",
        "random_image_size_tensor.shape,random_image_size_tensor.ndim\n"
      ],
      "metadata": {
        "colab": {
          "base_uri": "https://localhost:8080/"
        },
        "id": "P5TezFgNzPma",
        "outputId": "b08a0c3d-e0b9-4ce1-ea6f-b5a208806e06"
      },
      "execution_count": 20,
      "outputs": [
        {
          "output_type": "execute_result",
          "data": {
            "text/plain": [
              "(torch.Size([224, 224, 3]), 3)"
            ]
          },
          "metadata": {},
          "execution_count": 20
        }
      ]
    },
    {
      "cell_type": "markdown",
      "source": [
        "# Zeros and Ones"
      ],
      "metadata": {
        "id": "CcV7GC8s2-vN"
      }
    },
    {
      "cell_type": "code",
      "source": [
        "#Create a tensor of all Zeros\n",
        "zeros = torch.zeros(3,4)\n",
        "zeros"
      ],
      "metadata": {
        "colab": {
          "base_uri": "https://localhost:8080/"
        },
        "id": "ZspWg5tj21xh",
        "outputId": "25417f11-89f2-4499-8b57-554228af85e0"
      },
      "execution_count": 21,
      "outputs": [
        {
          "output_type": "execute_result",
          "data": {
            "text/plain": [
              "tensor([[0., 0., 0., 0.],\n",
              "        [0., 0., 0., 0.],\n",
              "        [0., 0., 0., 0.]])"
            ]
          },
          "metadata": {},
          "execution_count": 21
        }
      ]
    },
    {
      "cell_type": "code",
      "source": [
        "#Create a tensor of all ones\n",
        "ones = torch.ones(3,4)\n",
        "ones"
      ],
      "metadata": {
        "colab": {
          "base_uri": "https://localhost:8080/"
        },
        "id": "iEaE2vQp3l31",
        "outputId": "69a3a26f-ac96-4afc-d12c-f565364ee135"
      },
      "execution_count": 22,
      "outputs": [
        {
          "output_type": "execute_result",
          "data": {
            "text/plain": [
              "tensor([[1., 1., 1., 1.],\n",
              "        [1., 1., 1., 1.],\n",
              "        [1., 1., 1., 1.]])"
            ]
          },
          "metadata": {},
          "execution_count": 22
        }
      ]
    },
    {
      "cell_type": "code",
      "source": [
        "ones.dtype"
      ],
      "metadata": {
        "colab": {
          "base_uri": "https://localhost:8080/"
        },
        "id": "jUw1ivAt3etW",
        "outputId": "8a466a0c-f8b8-4276-8fc4-f2e7478c9666"
      },
      "execution_count": 23,
      "outputs": [
        {
          "output_type": "execute_result",
          "data": {
            "text/plain": [
              "torch.float32"
            ]
          },
          "metadata": {},
          "execution_count": 23
        }
      ]
    },
    {
      "cell_type": "markdown",
      "source": [
        "#Creating a range of tensors and tensors-like"
      ],
      "metadata": {
        "id": "VKdtM5Xk4Q4o"
      }
    },
    {
      "cell_type": "code",
      "source": [
        "# Use Torch.range()\n",
        "a=torch.range(0,10)\n",
        "print(a)\n",
        "print(a.dtype)"
      ],
      "metadata": {
        "colab": {
          "base_uri": "https://localhost:8080/"
        },
        "id": "q7P6uNwx4YmF",
        "outputId": "29ec5439-1b0a-4cf4-a9ed-b2f1063b29a4"
      },
      "execution_count": 24,
      "outputs": [
        {
          "output_type": "stream",
          "name": "stdout",
          "text": [
            "tensor([ 0.,  1.,  2.,  3.,  4.,  5.,  6.,  7.,  8.,  9., 10.])\n",
            "torch.float32\n"
          ]
        },
        {
          "output_type": "stream",
          "name": "stderr",
          "text": [
            "<ipython-input-24-2574e71674bb>:2: UserWarning: torch.range is deprecated and will be removed in a future release because its behavior is inconsistent with Python's range builtin. Instead, use torch.arange, which produces values in [start, end).\n",
            "  a=torch.range(0,10)\n"
          ]
        }
      ]
    },
    {
      "cell_type": "code",
      "source": [
        "a=torch.arange(0,10)\n",
        "print(a)\n",
        "print(a.dtype)"
      ],
      "metadata": {
        "colab": {
          "base_uri": "https://localhost:8080/"
        },
        "id": "axFtGkGB5LmE",
        "outputId": "41b765bc-1d8d-4b58-d7de-ccbef62d0ca1"
      },
      "execution_count": 25,
      "outputs": [
        {
          "output_type": "stream",
          "name": "stdout",
          "text": [
            "tensor([0, 1, 2, 3, 4, 5, 6, 7, 8, 9])\n",
            "torch.int64\n"
          ]
        }
      ]
    },
    {
      "cell_type": "code",
      "source": [
        "a1=torch.arange(start = 0,end = 1000, step = 77)\n",
        "print(a1)\n",
        "print(a1.dtype)"
      ],
      "metadata": {
        "colab": {
          "base_uri": "https://localhost:8080/"
        },
        "id": "ttjx2VPE5N3B",
        "outputId": "563ce0b4-2a1f-4ddf-a612-1648c421c1b6"
      },
      "execution_count": 26,
      "outputs": [
        {
          "output_type": "stream",
          "name": "stdout",
          "text": [
            "tensor([  0,  77, 154, 231, 308, 385, 462, 539, 616, 693, 770, 847, 924])\n",
            "torch.int64\n"
          ]
        }
      ]
    },
    {
      "cell_type": "markdown",
      "source": [
        "#Creating a range of tensors and tensors-like"
      ],
      "metadata": {
        "id": "hdVPNaHi6i3W"
      }
    },
    {
      "cell_type": "code",
      "source": [
        "ten_zeros = torch.zeros_like(input = a1)\n",
        "ten_zeros"
      ],
      "metadata": {
        "colab": {
          "base_uri": "https://localhost:8080/"
        },
        "id": "CPR99ViE6JHC",
        "outputId": "32eec0bb-3dd3-48b3-83dc-b99213b545ad"
      },
      "execution_count": 27,
      "outputs": [
        {
          "output_type": "execute_result",
          "data": {
            "text/plain": [
              "tensor([0, 0, 0, 0, 0, 0, 0, 0, 0, 0, 0, 0, 0])"
            ]
          },
          "metadata": {},
          "execution_count": 27
        }
      ]
    },
    {
      "cell_type": "markdown",
      "source": [
        "# Tensor datatype\n",
        "\n",
        "**Note:** Tensor datatype is one of the 3 big error you'll run into with PyTorch & deep learning\n",
        "\n",
        "1. Tensaor not right datatyoe\n",
        "2. Tensors not Right shape\n",
        "3. Tensor not on the right device "
      ],
      "metadata": {
        "id": "zC_j32KU7xm-"
      }
    },
    {
      "cell_type": "code",
      "source": [
        "#float 32 tensor\n",
        "float_32_tensor = torch.tensor([3.0,6.0,9.0],\n",
        "                               dtype=None,  #What datatype is the tensor (Eg. float32 or float16)\n",
        "                               device=None, #What device is your tensor on\n",
        "                               requires_grad=False) #whether or not to track gradients with this tensors oprations\n",
        "float_32_tensor"
      ],
      "metadata": {
        "colab": {
          "base_uri": "https://localhost:8080/"
        },
        "id": "b0MeB1G_6SX3",
        "outputId": "85691b55-12c8-4154-bcec-875936c56e16"
      },
      "execution_count": 28,
      "outputs": [
        {
          "output_type": "execute_result",
          "data": {
            "text/plain": [
              "tensor([3., 6., 9.])"
            ]
          },
          "metadata": {},
          "execution_count": 28
        }
      ]
    },
    {
      "cell_type": "code",
      "source": [
        "float_32_tensor.dtype"
      ],
      "metadata": {
        "colab": {
          "base_uri": "https://localhost:8080/"
        },
        "id": "MGlLJ-UtCViP",
        "outputId": "4c988e26-41ce-4eae-8473-011a2ac4f4ce"
      },
      "execution_count": 29,
      "outputs": [
        {
          "output_type": "execute_result",
          "data": {
            "text/plain": [
              "torch.float32"
            ]
          },
          "metadata": {},
          "execution_count": 29
        }
      ]
    },
    {
      "cell_type": "code",
      "source": [
        "float_16_tensor = float_32_tensor.type(torch.float16)   #convert Datatype or change datatype of tensor\n",
        "\n",
        "float_16_tensor"
      ],
      "metadata": {
        "colab": {
          "base_uri": "https://localhost:8080/"
        },
        "id": "cle_W00OChaV",
        "outputId": "d2ccae0a-9005-4420-9492-90382912c4ce"
      },
      "execution_count": 30,
      "outputs": [
        {
          "output_type": "execute_result",
          "data": {
            "text/plain": [
              "tensor([3., 6., 9.], dtype=torch.float16)"
            ]
          },
          "metadata": {},
          "execution_count": 30
        }
      ]
    },
    {
      "cell_type": "code",
      "source": [
        "float_32_tensor*float_16_tensor"
      ],
      "metadata": {
        "colab": {
          "base_uri": "https://localhost:8080/"
        },
        "id": "PTtyg4yI4GM-",
        "outputId": "250bc11d-e5b1-4122-8497-79a3f8689088"
      },
      "execution_count": 31,
      "outputs": [
        {
          "output_type": "execute_result",
          "data": {
            "text/plain": [
              "tensor([ 9., 36., 81.])"
            ]
          },
          "metadata": {},
          "execution_count": 31
        }
      ]
    },
    {
      "cell_type": "code",
      "source": [
        "int_32_tensor = torch.tensor([3,6,9],dtype=torch.int32)\n",
        "int_32_tensor"
      ],
      "metadata": {
        "colab": {
          "base_uri": "https://localhost:8080/"
        },
        "id": "wP1SjLLx4tTk",
        "outputId": "21d0c7cc-c50e-4e4a-9f14-46d73e41f725"
      },
      "execution_count": 32,
      "outputs": [
        {
          "output_type": "execute_result",
          "data": {
            "text/plain": [
              "tensor([3, 6, 9], dtype=torch.int32)"
            ]
          },
          "metadata": {},
          "execution_count": 32
        }
      ]
    },
    {
      "cell_type": "code",
      "source": [
        "int_32_tensor*float_32_tensor"
      ],
      "metadata": {
        "colab": {
          "base_uri": "https://localhost:8080/"
        },
        "id": "W983BAXN5J9U",
        "outputId": "b353686c-b05b-4a67-dcdf-0c8a7c19f7fa"
      },
      "execution_count": 33,
      "outputs": [
        {
          "output_type": "execute_result",
          "data": {
            "text/plain": [
              "tensor([ 9., 36., 81.])"
            ]
          },
          "metadata": {},
          "execution_count": 33
        }
      ]
    },
    {
      "cell_type": "markdown",
      "source": [
        "## **Getting information from tensors** (Tensor attribute)\n",
        "\n",
        "1. Tensaor not right datatype - to do get datatpye from a tensor, can use tensor,dtype\n",
        "2. Tensors not Right shape - to get shape from a tensor can use tensor.shape\n",
        "3. Tensor not on the right device - to get device from a tensor, can use tensor.device \n",
        "\n",
        "\n",
        "\n",
        "\n"
      ],
      "metadata": {
        "id": "LqYVDWgn54lh"
      }
    },
    {
      "cell_type": "code",
      "source": [
        " #create a tensor\n",
        " some_tensor = torch.rand(4,5)\n",
        " some_tensor"
      ],
      "metadata": {
        "colab": {
          "base_uri": "https://localhost:8080/"
        },
        "id": "5QZrJM3D5keZ",
        "outputId": "3aa56230-fbbd-4eb8-d436-afe38b1619d3"
      },
      "execution_count": 34,
      "outputs": [
        {
          "output_type": "execute_result",
          "data": {
            "text/plain": [
              "tensor([[0.3100, 0.1667, 0.9772, 0.5859, 0.5735],\n",
              "        [0.1159, 0.4143, 0.1232, 0.9771, 0.3717],\n",
              "        [0.6595, 0.2704, 0.5625, 0.1230, 0.9508],\n",
              "        [0.6839, 0.8154, 0.5740, 0.0336, 0.9252]])"
            ]
          },
          "metadata": {},
          "execution_count": 34
        }
      ]
    },
    {
      "cell_type": "code",
      "source": [
        "#Find ou detail about some tensor\n",
        "print(some_tensor)\n",
        "print(f\"Datatype of tensor : {some_tensor.dtype}\")\n",
        "print(f\"Shape of tensor : {some_tensor.shape}\")\n",
        "print(f\"Shape of tensor : {some_tensor.device}\")"
      ],
      "metadata": {
        "colab": {
          "base_uri": "https://localhost:8080/"
        },
        "id": "nf74aasR7UEM",
        "outputId": "e70d6731-c426-4a9a-fee3-dd464265985e"
      },
      "execution_count": 36,
      "outputs": [
        {
          "output_type": "stream",
          "name": "stdout",
          "text": [
            "tensor([[0.3100, 0.1667, 0.9772, 0.5859, 0.5735],\n",
            "        [0.1159, 0.4143, 0.1232, 0.9771, 0.3717],\n",
            "        [0.6595, 0.2704, 0.5625, 0.1230, 0.9508],\n",
            "        [0.6839, 0.8154, 0.5740, 0.0336, 0.9252]])\n",
            "Datatype of tensor : torch.float32\n",
            "Shape of tensor : torch.Size([4, 5])\n",
            "Shape of tensor : cpu\n"
          ]
        }
      ]
    },
    {
      "cell_type": "markdown",
      "source": [
        "### Mainpulating Tensor (Tensor operations)\n",
        "\n",
        "Tensor operations include :\n",
        "* Addition\n",
        "* Subtraction\n",
        "* Multiplication (element-wise)\n",
        "* Division\n",
        "* Matrix multiplication"
      ],
      "metadata": {
        "id": "18fMNKwO8kCH"
      }
    },
    {
      "cell_type": "code",
      "source": [
        "# create a tensor and add 10 to it\n",
        "tensor = torch.tensor([1,2,3])\n",
        "tensor + 10"
      ],
      "metadata": {
        "colab": {
          "base_uri": "https://localhost:8080/"
        },
        "id": "ufxB0Xjk7-4p",
        "outputId": "35ff99e9-7fa2-41e1-fc33-b16921c0decf"
      },
      "execution_count": 37,
      "outputs": [
        {
          "output_type": "execute_result",
          "data": {
            "text/plain": [
              "tensor([11, 12, 13])"
            ]
          },
          "metadata": {},
          "execution_count": 37
        }
      ]
    },
    {
      "cell_type": "code",
      "source": [
        "# create a tensor and subtraction 10 to it\n",
        "tensor = torch.tensor([1,2,3])\n",
        "tensor - 10"
      ],
      "metadata": {
        "colab": {
          "base_uri": "https://localhost:8080/"
        },
        "id": "vgUyoN44-oS_",
        "outputId": "e7f08edc-0f3a-4bc5-aa34-c05837ef26fb"
      },
      "execution_count": 38,
      "outputs": [
        {
          "output_type": "execute_result",
          "data": {
            "text/plain": [
              "tensor([-9, -8, -7])"
            ]
          },
          "metadata": {},
          "execution_count": 38
        }
      ]
    },
    {
      "cell_type": "code",
      "source": [
        "# create a tensor and MUL 10 to it\n",
        "tensor = torch.tensor([1,2,3])\n",
        "tensor * 10"
      ],
      "metadata": {
        "colab": {
          "base_uri": "https://localhost:8080/"
        },
        "id": "nMP3zSNr-u1e",
        "outputId": "35350fe6-95ea-45bb-880a-7597089c9f97"
      },
      "execution_count": 39,
      "outputs": [
        {
          "output_type": "execute_result",
          "data": {
            "text/plain": [
              "tensor([10, 20, 30])"
            ]
          },
          "metadata": {},
          "execution_count": 39
        }
      ]
    },
    {
      "cell_type": "code",
      "source": [
        "# create a tensor and division 10 to it\n",
        "tensor = torch.tensor([1,2,3])\n",
        "tensor / 10"
      ],
      "metadata": {
        "colab": {
          "base_uri": "https://localhost:8080/"
        },
        "id": "j1iipmE9-yp2",
        "outputId": "9c74bcee-c956-454e-b91a-306d15451ab0"
      },
      "execution_count": 40,
      "outputs": [
        {
          "output_type": "execute_result",
          "data": {
            "text/plain": [
              "tensor([0.1000, 0.2000, 0.3000])"
            ]
          },
          "metadata": {},
          "execution_count": 40
        }
      ]
    },
    {
      "cell_type": "code",
      "source": [
        "# try out PyTorch in-built Function\n",
        "torch.mul(tensor,10)"
      ],
      "metadata": {
        "colab": {
          "base_uri": "https://localhost:8080/"
        },
        "id": "e-2bKoME-8mL",
        "outputId": "001d1a96-e43f-4ea5-ef64-35223405a646"
      },
      "execution_count": 42,
      "outputs": [
        {
          "output_type": "execute_result",
          "data": {
            "text/plain": [
              "tensor([10, 20, 30])"
            ]
          },
          "metadata": {},
          "execution_count": 42
        }
      ]
    },
    {
      "cell_type": "code",
      "source": [
        "torch.add(tensor,10)"
      ],
      "metadata": {
        "colab": {
          "base_uri": "https://localhost:8080/"
        },
        "id": "REeWfnYe_pZ-",
        "outputId": "14472209-a236-4f53-afff-224590838356"
      },
      "execution_count": 44,
      "outputs": [
        {
          "output_type": "execute_result",
          "data": {
            "text/plain": [
              "tensor([11, 12, 13])"
            ]
          },
          "metadata": {},
          "execution_count": 44
        }
      ]
    },
    {
      "cell_type": "markdown",
      "source": [
        "### Matrix Multiplication\n",
        "\n",
        "Two main ways of performing multiplication in neural networks and deep learning:\n",
        "\n",
        "1.Element-wise multiplication\n",
        "\n",
        "2.Matrix Multiplication (dot product)\n",
        "\n",
        "There are two main rules that performing matrix mutliplication needs to satisy:\n",
        "\n",
        "1.the **inner dimension** must match:\n",
        "\n",
        "* `(3,2) @ (3,2)`won't work \n",
        "\n",
        "* `(2,3) @ (3,2)`Will work\n",
        "\n",
        "* `(3,2) @ (2,3)`will work "
      ],
      "metadata": {
        "id": "OFcKl77lBeTK"
      }
    },
    {
      "cell_type": "code",
      "source": [
        "# Element-wise multiplication\n",
        "print(tensor ,\"*\" , tensor)\n",
        "print(\"Equals : \",tensor*tensor)"
      ],
      "metadata": {
        "colab": {
          "base_uri": "https://localhost:8080/"
        },
        "id": "0TCdBuztCSS9",
        "outputId": "dad183cb-9810-476a-af01-3a183a4a957c"
      },
      "execution_count": 47,
      "outputs": [
        {
          "output_type": "stream",
          "name": "stdout",
          "text": [
            "tensor([1, 2, 3]) * tensor([1, 2, 3])\n",
            "Equals :  tensor([1, 4, 9])\n"
          ]
        }
      ]
    },
    {
      "cell_type": "code",
      "source": [
        "#Matrix Multiplication\n",
        "%%time\n",
        "torch.matmul(tensor,tensor) #you can use this or "
      ],
      "metadata": {
        "colab": {
          "base_uri": "https://localhost:8080/"
        },
        "id": "pFelkrHzD0TT",
        "outputId": "9a0aff8c-e302-4228-c522-1ce49e548a53"
      },
      "execution_count": 49,
      "outputs": [
        {
          "output_type": "stream",
          "name": "stdout",
          "text": [
            "CPU times: user 208 µs, sys: 0 ns, total: 208 µs\n",
            "Wall time: 214 µs\n"
          ]
        },
        {
          "output_type": "execute_result",
          "data": {
            "text/plain": [
              "tensor(14)"
            ]
          },
          "metadata": {},
          "execution_count": 49
        }
      ]
    },
    {
      "cell_type": "code",
      "source": [
        "#or use this for matrix multiplication\n",
        "tensor @ tensor"
      ],
      "metadata": {
        "colab": {
          "base_uri": "https://localhost:8080/"
        },
        "id": "ITZAm5j4GtdC",
        "outputId": "fbddff06-c7de-45c4-a2e0-ec2ad86ed1f8"
      },
      "execution_count": 51,
      "outputs": [
        {
          "output_type": "execute_result",
          "data": {
            "text/plain": [
              "tensor(14)"
            ]
          },
          "metadata": {},
          "execution_count": 51
        }
      ]
    }
  ]
}